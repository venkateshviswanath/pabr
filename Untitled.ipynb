{
 "cells": [
  {
   "cell_type": "code",
   "execution_count": 1,
   "id": "896280fd",
   "metadata": {},
   "outputs": [],
   "source": [
    "import numpy as np\n",
    "import matplotlib.pyplot as plt\n",
    "import pandas as pd\n",
    "import random"
   ]
  },
  {
   "cell_type": "code",
   "execution_count": 2,
   "id": "27380094",
   "metadata": {},
   "outputs": [
    {
     "name": "stderr",
     "output_type": "stream",
     "text": [
      "D:\\anaconda\\envs\\pabrnew\\lib\\site-packages\\IPython\\core\\interactiveshell.py:3165: DtypeWarning: Columns (1,10) have mixed types.Specify dtype option on import or set low_memory=False.\n",
      "  has_raised = await self.run_ast_nodes(code_ast.body, cell_name,\n"
     ]
    }
   ],
   "source": [
    "dataset = pd.read_csv('1429_1.csv')"
   ]
  },
  {
   "cell_type": "code",
   "execution_count": 3,
   "id": "ea947f3d",
   "metadata": {},
   "outputs": [],
   "source": [
    "dataset = dataset.iloc[:,[17,16,14,11]].values"
   ]
  },
  {
   "cell_type": "code",
   "execution_count": 4,
   "id": "7ceca216",
   "metadata": {},
   "outputs": [],
   "source": [
    "data = pd.DataFrame(dataset)\n",
    "dataset = data.dropna(axis = 0,how = 'any')\n",
    "X = dataset.iloc[:, :-1].values"
   ]
  },
  {
   "cell_type": "code",
   "execution_count": 5,
   "id": "7b5279a1",
   "metadata": {},
   "outputs": [],
   "source": [
    "rating = X[:,-1]"
   ]
  },
  {
   "cell_type": "code",
   "execution_count": 6,
   "id": "89f032e9",
   "metadata": {},
   "outputs": [],
   "source": [
    "y = dataset.iloc[:, -1].values"
   ]
  },
  {
   "cell_type": "code",
   "execution_count": 7,
   "id": "2c673e5f",
   "metadata": {},
   "outputs": [],
   "source": [
    "from sklearn.preprocessing import LabelEncoder\n",
    "le = LabelEncoder()\n",
    "y = le.fit_transform(y)"
   ]
  },
  {
   "cell_type": "code",
   "execution_count": 8,
   "id": "9e62a0d6",
   "metadata": {},
   "outputs": [
    {
     "data": {
      "text/html": [
       "<div>\n",
       "<style scoped>\n",
       "    .dataframe tbody tr th:only-of-type {\n",
       "        vertical-align: middle;\n",
       "    }\n",
       "\n",
       "    .dataframe tbody tr th {\n",
       "        vertical-align: top;\n",
       "    }\n",
       "\n",
       "    .dataframe thead th {\n",
       "        text-align: right;\n",
       "    }\n",
       "</style>\n",
       "<table border=\"1\" class=\"dataframe\">\n",
       "  <thead>\n",
       "    <tr style=\"text-align: right;\">\n",
       "      <th></th>\n",
       "      <th>0</th>\n",
       "      <th>1</th>\n",
       "      <th>2</th>\n",
       "      <th>3</th>\n",
       "    </tr>\n",
       "  </thead>\n",
       "  <tbody>\n",
       "    <tr>\n",
       "      <th>0</th>\n",
       "      <td>Kindle</td>\n",
       "      <td>This product so far has not disappointed. My c...</td>\n",
       "      <td>5.0</td>\n",
       "      <td>True</td>\n",
       "    </tr>\n",
       "    <tr>\n",
       "      <th>1</th>\n",
       "      <td>very fast</td>\n",
       "      <td>great for beginner or experienced person. Boug...</td>\n",
       "      <td>5.0</td>\n",
       "      <td>True</td>\n",
       "    </tr>\n",
       "    <tr>\n",
       "      <th>2</th>\n",
       "      <td>Beginner tablet for our 9 year old son.</td>\n",
       "      <td>Inexpensive tablet for him to use and learn on...</td>\n",
       "      <td>5.0</td>\n",
       "      <td>True</td>\n",
       "    </tr>\n",
       "    <tr>\n",
       "      <th>3</th>\n",
       "      <td>Good!!!</td>\n",
       "      <td>I've had my Fire HD 8 two weeks now and I love...</td>\n",
       "      <td>4.0</td>\n",
       "      <td>True</td>\n",
       "    </tr>\n",
       "    <tr>\n",
       "      <th>4</th>\n",
       "      <td>Fantastic Tablet for kids</td>\n",
       "      <td>I bought this for my grand daughter when she c...</td>\n",
       "      <td>5.0</td>\n",
       "      <td>True</td>\n",
       "    </tr>\n",
       "    <tr>\n",
       "      <th>...</th>\n",
       "      <td>...</td>\n",
       "      <td>...</td>\n",
       "      <td>...</td>\n",
       "      <td>...</td>\n",
       "    </tr>\n",
       "    <tr>\n",
       "      <th>34619</th>\n",
       "      <td>Wonderful unit</td>\n",
       "      <td>Can use it for best streaming. Can watch all t...</td>\n",
       "      <td>5.0</td>\n",
       "      <td>True</td>\n",
       "    </tr>\n",
       "    <tr>\n",
       "      <th>34620</th>\n",
       "      <td>Works great</td>\n",
       "      <td>I am now able to stream tv and movies from aro...</td>\n",
       "      <td>4.0</td>\n",
       "      <td>True</td>\n",
       "    </tr>\n",
       "    <tr>\n",
       "      <th>34621</th>\n",
       "      <td>the best</td>\n",
       "      <td>best streaming device , very portable , amazin...</td>\n",
       "      <td>5.0</td>\n",
       "      <td>False</td>\n",
       "    </tr>\n",
       "    <tr>\n",
       "      <th>34622</th>\n",
       "      <td>Love it</td>\n",
       "      <td>Simply the best to watch tv series and movies....</td>\n",
       "      <td>5.0</td>\n",
       "      <td>True</td>\n",
       "    </tr>\n",
       "    <tr>\n",
       "      <th>34623</th>\n",
       "      <td>Try it, you will like it</td>\n",
       "      <td>I was looking for ways to cut cost from a rais...</td>\n",
       "      <td>4.0</td>\n",
       "      <td>True</td>\n",
       "    </tr>\n",
       "  </tbody>\n",
       "</table>\n",
       "<p>34061 rows × 4 columns</p>\n",
       "</div>"
      ],
      "text/plain": [
       "                                             0  \\\n",
       "0                                       Kindle   \n",
       "1                                    very fast   \n",
       "2      Beginner tablet for our 9 year old son.   \n",
       "3                                      Good!!!   \n",
       "4                    Fantastic Tablet for kids   \n",
       "...                                        ...   \n",
       "34619                           Wonderful unit   \n",
       "34620                              Works great   \n",
       "34621                                 the best   \n",
       "34622                                  Love it   \n",
       "34623                 Try it, you will like it   \n",
       "\n",
       "                                                       1    2      3  \n",
       "0      This product so far has not disappointed. My c...  5.0   True  \n",
       "1      great for beginner or experienced person. Boug...  5.0   True  \n",
       "2      Inexpensive tablet for him to use and learn on...  5.0   True  \n",
       "3      I've had my Fire HD 8 two weeks now and I love...  4.0   True  \n",
       "4      I bought this for my grand daughter when she c...  5.0   True  \n",
       "...                                                  ...  ...    ...  \n",
       "34619  Can use it for best streaming. Can watch all t...  5.0   True  \n",
       "34620  I am now able to stream tv and movies from aro...  4.0   True  \n",
       "34621  best streaming device , very portable , amazin...  5.0  False  \n",
       "34622  Simply the best to watch tv series and movies....  5.0   True  \n",
       "34623  I was looking for ways to cut cost from a rais...  4.0   True  \n",
       "\n",
       "[34061 rows x 4 columns]"
      ]
     },
     "execution_count": 8,
     "metadata": {},
     "output_type": "execute_result"
    }
   ],
   "source": [
    "dataset.head(-1)"
   ]
  },
  {
   "cell_type": "code",
   "execution_count": 9,
   "id": "8811e2a8",
   "metadata": {},
   "outputs": [
    {
     "name": "stdout",
     "output_type": "stream",
     "text": [
      "[['Kindle'\n",
      "  'This product so far has not disappointed. My children love to use it and I like the ability to monitor control what content they see with ease.'\n",
      "  5.0]\n",
      " ['very fast'\n",
      "  'great for beginner or experienced person. Bought as a gift and she loves it'\n",
      "  5.0]\n",
      " ['Beginner tablet for our 9 year old son.'\n",
      "  'Inexpensive tablet for him to use and learn on, step up from the NABI. He was thrilled with it, learn how to Skype on it already...'\n",
      "  5.0]\n",
      " ...\n",
      " ['Love it'\n",
      "  'Simply the best to watch tv series and movies. It works even better if you are an Amazon Prime subscriber, with access to a many free goodies.'\n",
      "  5.0]\n",
      " ['Try it, you will like it'\n",
      "  'I was looking for ways to cut cost from a raising cable bill and a friend suggested I try the Amazon Fire. At first I didn���t know if this was something I could do. Once I was able to maneuver through the process, I love it.'\n",
      "  4.0]\n",
      " ['Great little device'\n",
      "  'I enjoy my kindle tv, it beats paying for cable every month ������'\n",
      "  4.0]]\n",
      "[1 1 1 ... 1 1 1]\n"
     ]
    }
   ],
   "source": [
    "print(X)\n",
    "print(y)"
   ]
  },
  {
   "cell_type": "code",
   "execution_count": 11,
   "id": "0297d38a",
   "metadata": {},
   "outputs": [
    {
     "name": "stderr",
     "output_type": "stream",
     "text": [
      "[nltk_data] Downloading package stopwords to\n",
      "[nltk_data]     C:\\Users\\viven\\AppData\\Roaming\\nltk_data...\n",
      "[nltk_data]   Package stopwords is already up-to-date!\n"
     ]
    }
   ],
   "source": [
    "import re\n",
    "import nltk\n",
    "# Downloading stopwords which does not having much significance\n",
    "nltk.download('stopwords')\n",
    "from nltk.corpus import stopwords"
   ]
  },
  {
   "cell_type": "code",
   "execution_count": 12,
   "id": "a8e93113",
   "metadata": {},
   "outputs": [],
   "source": [
    "# Stemmer will reduce words in their root form\n",
    "from nltk.stem.porter import PorterStemmer\n",
    "ps = PorterStemmer()\n",
    "all_stopwords = stopwords.words('english')"
   ]
  },
  {
   "cell_type": "code",
   "execution_count": 13,
   "id": "7ddcebf3",
   "metadata": {},
   "outputs": [],
   "source": [
    "# Removing some stopwords which have significance effect in building this model\n",
    "rem = ['not', 'ain', 'aren', \"aren't\", 'couldn', \"couldn't\", 'didn', \"didn't\", 'doesn', \"doesn't\", 'hadn', \"hadn't\", 'hasn', \n",
    "       \"hasn't\", 'haven', \"haven't\", 'isn', \"isn't\", 'ma', 'mightn', \"mightn't\", 'mustn', \"mustn't\", 'needn', \"needn't\", 'shan', \n",
    "       \"shan't\", 'shouldn', \"shouldn't\", 'wasn', \"wasn't\", 'weren', \"weren't\", 'won', \"won't\", 'wouldn', \"wouldn't\", 'don', \"don't\", \n",
    "       'just', 'too', 'very', 'no', 'nor', 'only', 'own', 'same', 'again', 'against', 'but',]\n",
    "for s in rem:\n",
    "  all_stopwords.remove(s)"
   ]
  },
  {
   "cell_type": "code",
   "execution_count": 14,
   "id": "3b48615a",
   "metadata": {},
   "outputs": [],
   "source": [
    "def find_clean_text(temp):\n",
    "  # Removing all characters other than alphabet\n",
    "  temp = re.sub('[^a-zA-Z]', ' ', temp)\n",
    "  temp = temp.lower()\n",
    "  temp = temp.split()\n",
    "  temp = [ps.stem(word) for word in temp if not word in set(all_stopwords)]\n",
    "  temp = ' '.join(temp)\n",
    "  return temp"
   ]
  },
  {
   "cell_type": "code",
   "execution_count": 15,
   "id": "b1666024",
   "metadata": {},
   "outputs": [],
   "source": [
    "corpus = []\n",
    "for i in range(X.shape[0]):\n",
    "  # Concatanating both title and detailed review\n",
    "  temp = X[i][0] + ' ' + X[i][1]\n",
    "  temp = find_clean_text(temp)\n",
    "  corpus.append(temp)"
   ]
  },
  {
   "cell_type": "code",
   "execution_count": 16,
   "id": "f7e21488",
   "metadata": {},
   "outputs": [],
   "source": [
    "from sklearn.feature_extraction.text import CountVectorizer\n",
    "cv = CountVectorizer(max_features = 3000)\n",
    "X = cv.fit_transform(corpus).toarray()"
   ]
  },
  {
   "cell_type": "code",
   "execution_count": 17,
   "id": "8359b3d9",
   "metadata": {},
   "outputs": [],
   "source": [
    "pos_x = []\n",
    "pos_y = []\n",
    "neg_x = []\n",
    "neg_y = []\n",
    "for i in range(X.shape[0]):\n",
    "  if y[i]==1:\n",
    "    pos_x.append(X[i])\n",
    "    pos_y.append(y[i])\n",
    "  else:\n",
    "    neg_x.append(X[i])\n",
    "    neg_y.append(y[i])"
   ]
  },
  {
   "cell_type": "code",
   "execution_count": 18,
   "id": "d08a06e2",
   "metadata": {},
   "outputs": [],
   "source": [
    "from sklearn.model_selection import train_test_split\n",
    "X_train1, X_test1, y_train1, y_test1 = train_test_split(pos_x, pos_y, test_size = 0.20)\n",
    "X_train, X_test, y_train, y_test = train_test_split(neg_x, neg_y, test_size = 0.20)\n"
   ]
  },
  {
   "cell_type": "code",
   "execution_count": 19,
   "id": "63ea135d",
   "metadata": {},
   "outputs": [],
   "source": [
    "for i in range(len(X_train1)):\n",
    "  X_train.append(X_train1[i])\n",
    "  y_train.append(y_train1[i])\n",
    "for i in range(len(X_test1)):\n",
    "  X_test.append(X_test1[i])\n",
    "  y_test.append(y_test1[i])\n",
    "X_train = np.array(X_train)\n",
    "X_test = np.array(X_test)\n",
    "y_train = np.array(y_train)\n",
    "y_test = np.array(y_test)"
   ]
  },
  {
   "cell_type": "code",
   "execution_count": 20,
   "id": "5b8d3ba9",
   "metadata": {},
   "outputs": [
    {
     "data": {
      "text/plain": [
       "MultinomialNB()"
      ]
     },
     "execution_count": 20,
     "metadata": {},
     "output_type": "execute_result"
    }
   ],
   "source": [
    "from sklearn.naive_bayes import MultinomialNB\n",
    "classifier = MultinomialNB()\n",
    "classifier.fit(X_train, y_train)"
   ]
  },
  {
   "cell_type": "code",
   "execution_count": 21,
   "id": "1c4404fe",
   "metadata": {},
   "outputs": [
    {
     "name": "stdout",
     "output_type": "stream",
     "text": [
      "Result on training set :\n",
      "Confusion matrix :\n",
      "[[  799   308]\n",
      " [  843 25299]]\n",
      "accuracy :  0.9577599177951485\n"
     ]
    }
   ],
   "source": [
    "from sklearn.metrics import confusion_matrix, accuracy_score\n",
    "\n",
    "print('Result on training set :')\n",
    "print('Confusion matrix :')\n",
    "print(confusion_matrix(y_train,classifier.predict(X_train)))\n",
    "print('accuracy : ',accuracy_score(y_train, classifier.predict(X_train)))\n"
   ]
  },
  {
   "cell_type": "code",
   "execution_count": 25,
   "id": "1bc07e7f",
   "metadata": {},
   "outputs": [
    {
     "name": "stdout",
     "output_type": "stream",
     "text": [
      "Result on test set :\n",
      "Confusion matrix :\n",
      "[[ 190   87]\n",
      " [ 255 6281]]\n",
      "accuracy 0.9498018494055482\n"
     ]
    }
   ],
   "source": [
    "\n",
    "print('Result on test set :')\n",
    "y_pred = classifier.predict(X_test)\n",
    "print('Confusion matrix :')\n",
    "print(confusion_matrix(y_test, y_pred))\n",
    "print('accuracy',accuracy_score(y_test, y_pred))"
   ]
  },
  {
   "cell_type": "code",
   "execution_count": 28,
   "id": "2099b2e4",
   "metadata": {},
   "outputs": [],
   "source": [
    "from sklearn.ensemble import RandomForestClassifier\n",
    "from sklearn.metrics import confusion_matrix"
   ]
  },
  {
   "cell_type": "code",
   "execution_count": 29,
   "id": "ae73d738",
   "metadata": {},
   "outputs": [
    {
     "data": {
      "text/plain": [
       "RandomForestClassifier()"
      ]
     },
     "execution_count": 29,
     "metadata": {},
     "output_type": "execute_result"
    }
   ],
   "source": [
    "model=RandomForestClassifier()\n",
    "model.fit(X_train1, y_train1)"
   ]
  },
  {
   "cell_type": "code",
   "execution_count": 30,
   "id": "cfe9d375",
   "metadata": {},
   "outputs": [],
   "source": [
    "y_pred=model.predict(X_test1)"
   ]
  },
  {
   "cell_type": "code",
   "execution_count": 31,
   "id": "3d98d9a6",
   "metadata": {},
   "outputs": [
    {
     "name": "stdout",
     "output_type": "stream",
     "text": [
      "Result on training set :\n",
      "Confusion matrix :\n",
      "[[    0     0]\n",
      " [  843 25299]]\n",
      "accuracy :  0.9677530410833142\n"
     ]
    }
   ],
   "source": [
    "from sklearn.metrics import confusion_matrix, accuracy_score\n",
    "\n",
    "print('Result on training set :')\n",
    "print('Confusion matrix :')\n",
    "print(confusion_matrix(y_train1,classifier.predict(X_train1)))\n",
    "print('accuracy : ',accuracy_score(y_train1, classifier.predict(X_train1)))"
   ]
  },
  {
   "cell_type": "code",
   "execution_count": 36,
   "id": "46b05d4c",
   "metadata": {},
   "outputs": [
    {
     "name": "stdout",
     "output_type": "stream",
     "text": [
      "Result on test set :\n",
      "Confusion matrix :\n",
      "[[ 190   87]\n",
      " [ 255 6281]]\n",
      "accuracy 0.9498018494055482\n"
     ]
    }
   ],
   "source": [
    "print('Result on test set :')\n",
    "y_pred = classifier.predict(X_test)\n",
    "print('Confusion matrix :')\n",
    "print(confusion_matrix(y_test, y_pred))\n",
    "print('accuracy',accuracy_score(y_test, y_pred))"
   ]
  },
  {
   "cell_type": "code",
   "execution_count": null,
   "id": "41deea04",
   "metadata": {},
   "outputs": [],
   "source": []
  }
 ],
 "metadata": {
  "kernelspec": {
   "display_name": "Python 3",
   "language": "python",
   "name": "python3"
  },
  "language_info": {
   "codemirror_mode": {
    "name": "ipython",
    "version": 3
   },
   "file_extension": ".py",
   "mimetype": "text/x-python",
   "name": "python",
   "nbconvert_exporter": "python",
   "pygments_lexer": "ipython3",
   "version": "3.8.8"
  }
 },
 "nbformat": 4,
 "nbformat_minor": 5
}
